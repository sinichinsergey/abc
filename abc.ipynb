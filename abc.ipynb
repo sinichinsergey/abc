{
 "cells": [
  {
   "cell_type": "markdown",
   "metadata": {},
   "source": [
    "# Импорт библиотек"
   ]
  },
  {
   "cell_type": "code",
   "execution_count": 62,
   "metadata": {},
   "outputs": [],
   "source": [
    "import pandas as pd\n",
    "import matplotlib.pyplot as plt\n",
    "import seaborn as sns\n",
    "%matplotlib inline"
   ]
  },
  {
   "cell_type": "markdown",
   "metadata": {},
   "source": [
    "# Чтение файлов"
   ]
  },
  {
   "cell_type": "code",
   "execution_count": 63,
   "metadata": {},
   "outputs": [],
   "source": [
    "df_page1 = pd.read_excel('Продажи и отключения за год.xlsx', sheet_name='Продажи за год')\n",
    "df_page2 = pd.read_excel('Продажи и отключения за год.xlsx', sheet_name='Отключения за год')\n",
    "df_client = pd.read_excel('Доп. свойства клиентов.xlsx')"
   ]
  },
  {
   "cell_type": "markdown",
   "metadata": {},
   "source": [
    "Преобразуем все \"ID клиента\" в строки для слияния файлов в дальнейшем"
   ]
  },
  {
   "cell_type": "code",
   "execution_count": 64,
   "metadata": {},
   "outputs": [],
   "source": [
    "df_page1['ID клиента'] = df_page1['ID клиента'].astype(str)\n",
    "df_page2['ID клиента'] = df_page2['ID клиента'].astype(str)\n",
    "df_client['ID клиента'] = df_client['ID клиента'].astype(str)"
   ]
  },
  {
   "cell_type": "markdown",
   "metadata": {},
   "source": [
    "# Посмотрим \"Продажи за год\""
   ]
  },
  {
   "cell_type": "code",
   "execution_count": 65,
   "metadata": {},
   "outputs": [
    {
     "data": {
      "text/html": [
       "<div>\n",
       "<style scoped>\n",
       "    .dataframe tbody tr th:only-of-type {\n",
       "        vertical-align: middle;\n",
       "    }\n",
       "\n",
       "    .dataframe tbody tr th {\n",
       "        vertical-align: top;\n",
       "    }\n",
       "\n",
       "    .dataframe thead th {\n",
       "        text-align: right;\n",
       "    }\n",
       "</style>\n",
       "<table border=\"1\" class=\"dataframe\">\n",
       "  <thead>\n",
       "    <tr style=\"text-align: right;\">\n",
       "      <th></th>\n",
       "      <th>ID клиента</th>\n",
       "      <th>Месяц продажи</th>\n",
       "      <th>ВКСП</th>\n",
       "      <th>Сумма счета</th>\n",
       "    </tr>\n",
       "  </thead>\n",
       "  <tbody>\n",
       "    <tr>\n",
       "      <th>0</th>\n",
       "      <td>08056</td>\n",
       "      <td>2020-05-01</td>\n",
       "      <td>0.00</td>\n",
       "      <td>15240.50</td>\n",
       "    </tr>\n",
       "    <tr>\n",
       "      <th>1</th>\n",
       "      <td>42381</td>\n",
       "      <td>2020-05-01</td>\n",
       "      <td>0.00</td>\n",
       "      <td>NaN</td>\n",
       "    </tr>\n",
       "    <tr>\n",
       "      <th>2</th>\n",
       "      <td>51895</td>\n",
       "      <td>2020-05-01</td>\n",
       "      <td>0.00</td>\n",
       "      <td>5485.71</td>\n",
       "    </tr>\n",
       "    <tr>\n",
       "      <th>3</th>\n",
       "      <td>57656</td>\n",
       "      <td>2020-05-01</td>\n",
       "      <td>0.26</td>\n",
       "      <td>12500.00</td>\n",
       "    </tr>\n",
       "    <tr>\n",
       "      <th>4</th>\n",
       "      <td>60065</td>\n",
       "      <td>2020-05-01</td>\n",
       "      <td>0.70</td>\n",
       "      <td>4398.62</td>\n",
       "    </tr>\n",
       "    <tr>\n",
       "      <th>...</th>\n",
       "      <td>...</td>\n",
       "      <td>...</td>\n",
       "      <td>...</td>\n",
       "      <td>...</td>\n",
       "    </tr>\n",
       "    <tr>\n",
       "      <th>237</th>\n",
       "      <td>40993</td>\n",
       "      <td>2021-04-01</td>\n",
       "      <td>0.80</td>\n",
       "      <td>6817.07</td>\n",
       "    </tr>\n",
       "    <tr>\n",
       "      <th>238</th>\n",
       "      <td>48949</td>\n",
       "      <td>2021-04-01</td>\n",
       "      <td>1.00</td>\n",
       "      <td>9356.76</td>\n",
       "    </tr>\n",
       "    <tr>\n",
       "      <th>239</th>\n",
       "      <td>65551</td>\n",
       "      <td>2021-04-01</td>\n",
       "      <td>1.30</td>\n",
       "      <td>7900.00</td>\n",
       "    </tr>\n",
       "    <tr>\n",
       "      <th>240</th>\n",
       "      <td>67227</td>\n",
       "      <td>2021-04-01</td>\n",
       "      <td>0.00</td>\n",
       "      <td>6220.37</td>\n",
       "    </tr>\n",
       "    <tr>\n",
       "      <th>241</th>\n",
       "      <td>74184</td>\n",
       "      <td>2021-04-01</td>\n",
       "      <td>1.15</td>\n",
       "      <td>11554.56</td>\n",
       "    </tr>\n",
       "  </tbody>\n",
       "</table>\n",
       "<p>242 rows × 4 columns</p>\n",
       "</div>"
      ],
      "text/plain": [
       "    ID клиента Месяц продажи  ВКСП  Сумма счета\n",
       "0        08056    2020-05-01  0.00     15240.50\n",
       "1        42381    2020-05-01  0.00          NaN\n",
       "2        51895    2020-05-01  0.00      5485.71\n",
       "3        57656    2020-05-01  0.26     12500.00\n",
       "4        60065    2020-05-01  0.70      4398.62\n",
       "..         ...           ...   ...          ...\n",
       "237      40993    2021-04-01  0.80      6817.07\n",
       "238      48949    2021-04-01  1.00      9356.76\n",
       "239      65551    2021-04-01  1.30      7900.00\n",
       "240      67227    2021-04-01  0.00      6220.37\n",
       "241      74184    2021-04-01  1.15     11554.56\n",
       "\n",
       "[242 rows x 4 columns]"
      ]
     },
     "execution_count": 65,
     "metadata": {},
     "output_type": "execute_result"
    }
   ],
   "source": [
    "df_page1"
   ]
  },
  {
   "cell_type": "markdown",
   "metadata": {},
   "source": [
    "Смотрим количество пропущенных значений"
   ]
  },
  {
   "cell_type": "code",
   "execution_count": 66,
   "metadata": {},
   "outputs": [
    {
     "data": {
      "text/plain": [
       "ID клиента       0\n",
       "Месяц продажи    0\n",
       "ВКСП             0\n",
       "Сумма счета      8\n",
       "dtype: int64"
      ]
     },
     "execution_count": 66,
     "metadata": {},
     "output_type": "execute_result"
    }
   ],
   "source": [
    "df_page1.isna().sum()"
   ]
  },
  {
   "cell_type": "markdown",
   "metadata": {},
   "source": [
    "Заполним пропущенные значения \"Сумма счета\" нулями"
   ]
  },
  {
   "cell_type": "code",
   "execution_count": 67,
   "metadata": {},
   "outputs": [],
   "source": [
    "df_page1.fillna(0, inplace=True)"
   ]
  },
  {
   "cell_type": "markdown",
   "metadata": {},
   "source": [
    "Найдем дубликаты"
   ]
  },
  {
   "cell_type": "code",
   "execution_count": 68,
   "metadata": {},
   "outputs": [
    {
     "data": {
      "text/html": [
       "<div>\n",
       "<style scoped>\n",
       "    .dataframe tbody tr th:only-of-type {\n",
       "        vertical-align: middle;\n",
       "    }\n",
       "\n",
       "    .dataframe tbody tr th {\n",
       "        vertical-align: top;\n",
       "    }\n",
       "\n",
       "    .dataframe thead th {\n",
       "        text-align: right;\n",
       "    }\n",
       "</style>\n",
       "<table border=\"1\" class=\"dataframe\">\n",
       "  <thead>\n",
       "    <tr style=\"text-align: right;\">\n",
       "      <th></th>\n",
       "      <th>ID клиента</th>\n",
       "      <th>Месяц продажи</th>\n",
       "      <th>ВКСП</th>\n",
       "      <th>Сумма счета</th>\n",
       "    </tr>\n",
       "  </thead>\n",
       "  <tbody>\n",
       "  </tbody>\n",
       "</table>\n",
       "</div>"
      ],
      "text/plain": [
       "Empty DataFrame\n",
       "Columns: [ID клиента, Месяц продажи, ВКСП, Сумма счета]\n",
       "Index: []"
      ]
     },
     "execution_count": 68,
     "metadata": {},
     "output_type": "execute_result"
    }
   ],
   "source": [
    "duplicates = df_page1[df_page1.duplicated('ID клиента')]\n",
    "duplicates"
   ]
  },
  {
   "cell_type": "markdown",
   "metadata": {},
   "source": [
    "Дубликатов нет"
   ]
  },
  {
   "cell_type": "markdown",
   "metadata": {},
   "source": [
    "# Посмотрим \"Отключения за год\""
   ]
  },
  {
   "cell_type": "code",
   "execution_count": 69,
   "metadata": {},
   "outputs": [
    {
     "data": {
      "text/html": [
       "<div>\n",
       "<style scoped>\n",
       "    .dataframe tbody tr th:only-of-type {\n",
       "        vertical-align: middle;\n",
       "    }\n",
       "\n",
       "    .dataframe tbody tr th {\n",
       "        vertical-align: top;\n",
       "    }\n",
       "\n",
       "    .dataframe thead th {\n",
       "        text-align: right;\n",
       "    }\n",
       "</style>\n",
       "<table border=\"1\" class=\"dataframe\">\n",
       "  <thead>\n",
       "    <tr style=\"text-align: right;\">\n",
       "      <th></th>\n",
       "      <th>ID клиента</th>\n",
       "      <th>ВКСП</th>\n",
       "      <th>Месяц отключения</th>\n",
       "    </tr>\n",
       "  </thead>\n",
       "  <tbody>\n",
       "    <tr>\n",
       "      <th>0</th>\n",
       "      <td>13681</td>\n",
       "      <td>0.700</td>\n",
       "      <td>Май/2020</td>\n",
       "    </tr>\n",
       "    <tr>\n",
       "      <th>1</th>\n",
       "      <td>31803</td>\n",
       "      <td>0.750</td>\n",
       "      <td>Май/2020</td>\n",
       "    </tr>\n",
       "    <tr>\n",
       "      <th>2</th>\n",
       "      <td>39028</td>\n",
       "      <td>0.750</td>\n",
       "      <td>Май/2020</td>\n",
       "    </tr>\n",
       "    <tr>\n",
       "      <th>3</th>\n",
       "      <td>40346/1</td>\n",
       "      <td>1.325</td>\n",
       "      <td>Май/2020</td>\n",
       "    </tr>\n",
       "    <tr>\n",
       "      <th>4</th>\n",
       "      <td>45510</td>\n",
       "      <td>0.700</td>\n",
       "      <td>Май/2020</td>\n",
       "    </tr>\n",
       "    <tr>\n",
       "      <th>...</th>\n",
       "      <td>...</td>\n",
       "      <td>...</td>\n",
       "      <td>...</td>\n",
       "    </tr>\n",
       "    <tr>\n",
       "      <th>329</th>\n",
       "      <td>01470/13</td>\n",
       "      <td>NaN</td>\n",
       "      <td>Апрель/2021</td>\n",
       "    </tr>\n",
       "    <tr>\n",
       "      <th>330</th>\n",
       "      <td>01470/27</td>\n",
       "      <td>NaN</td>\n",
       "      <td>Апрель/2021</td>\n",
       "    </tr>\n",
       "    <tr>\n",
       "      <th>331</th>\n",
       "      <td>09344</td>\n",
       "      <td>1.560</td>\n",
       "      <td>Апрель/2021</td>\n",
       "    </tr>\n",
       "    <tr>\n",
       "      <th>332</th>\n",
       "      <td>25792</td>\n",
       "      <td>NaN</td>\n",
       "      <td>Апрель/2021</td>\n",
       "    </tr>\n",
       "    <tr>\n",
       "      <th>333</th>\n",
       "      <td>64249</td>\n",
       "      <td>0.700</td>\n",
       "      <td>Апрель/2021</td>\n",
       "    </tr>\n",
       "  </tbody>\n",
       "</table>\n",
       "<p>334 rows × 3 columns</p>\n",
       "</div>"
      ],
      "text/plain": [
       "    ID клиента   ВКСП Месяц отключения\n",
       "0        13681  0.700         Май/2020\n",
       "1        31803  0.750         Май/2020\n",
       "2        39028  0.750         Май/2020\n",
       "3      40346/1  1.325         Май/2020\n",
       "4        45510  0.700         Май/2020\n",
       "..         ...    ...              ...\n",
       "329   01470/13    NaN      Апрель/2021\n",
       "330   01470/27    NaN      Апрель/2021\n",
       "331      09344  1.560      Апрель/2021\n",
       "332      25792    NaN      Апрель/2021\n",
       "333      64249  0.700      Апрель/2021\n",
       "\n",
       "[334 rows x 3 columns]"
      ]
     },
     "execution_count": 69,
     "metadata": {},
     "output_type": "execute_result"
    }
   ],
   "source": [
    "df_page2"
   ]
  },
  {
   "cell_type": "markdown",
   "metadata": {},
   "source": [
    "Переведем даты в нужный формат"
   ]
  },
  {
   "cell_type": "code",
   "execution_count": 70,
   "metadata": {},
   "outputs": [
    {
     "data": {
      "text/html": [
       "<div>\n",
       "<style scoped>\n",
       "    .dataframe tbody tr th:only-of-type {\n",
       "        vertical-align: middle;\n",
       "    }\n",
       "\n",
       "    .dataframe tbody tr th {\n",
       "        vertical-align: top;\n",
       "    }\n",
       "\n",
       "    .dataframe thead th {\n",
       "        text-align: right;\n",
       "    }\n",
       "</style>\n",
       "<table border=\"1\" class=\"dataframe\">\n",
       "  <thead>\n",
       "    <tr style=\"text-align: right;\">\n",
       "      <th></th>\n",
       "      <th>ID клиента</th>\n",
       "      <th>ВКСП</th>\n",
       "      <th>Месяц отключения</th>\n",
       "    </tr>\n",
       "  </thead>\n",
       "  <tbody>\n",
       "    <tr>\n",
       "      <th>0</th>\n",
       "      <td>13681</td>\n",
       "      <td>0.7</td>\n",
       "      <td>2020-05-01</td>\n",
       "    </tr>\n",
       "  </tbody>\n",
       "</table>\n",
       "</div>"
      ],
      "text/plain": [
       "  ID клиента  ВКСП Месяц отключения\n",
       "0      13681   0.7       2020-05-01"
      ]
     },
     "execution_count": 70,
     "metadata": {},
     "output_type": "execute_result"
    }
   ],
   "source": [
    "# заменяем названия месяцов на порядковый номер\n",
    "df_page2['Месяц отключения'] = df_page2['Месяц отключения'].str.replace(r'Январь', '01')\n",
    "df_page2['Месяц отключения'] = df_page2['Месяц отключения'].str.replace(r'Февраль', '02')\n",
    "df_page2['Месяц отключения'] = df_page2['Месяц отключения'].str.replace(r'Март', '03')\n",
    "df_page2['Месяц отключения'] = df_page2['Месяц отключения'].str.replace(r'Апрель', '04')\n",
    "df_page2['Месяц отключения'] = df_page2['Месяц отключения'].str.replace(r'Май', '05')\n",
    "df_page2['Месяц отключения'] = df_page2['Месяц отключения'].str.replace(r'Июнь', '06')\n",
    "df_page2['Месяц отключения'] = df_page2['Месяц отключения'].str.replace(r'Июль', '07')\n",
    "df_page2['Месяц отключения'] = df_page2['Месяц отключения'].str.replace(r'Август', '08')\n",
    "df_page2['Месяц отключения'] = df_page2['Месяц отключения'].str.replace(r'Сентябрь', '09')\n",
    "df_page2['Месяц отключения'] = df_page2['Месяц отключения'].str.replace(r'Октябрь', '10')\n",
    "df_page2['Месяц отключения'] = df_page2['Месяц отключения'].str.replace(r'Ноябрь', '11')\n",
    "df_page2['Месяц отключения'] = df_page2['Месяц отключения'].str.replace(r'Декабрь', '12')\n",
    "\n",
    "# переводим в формат даты\n",
    "df_page2['Месяц отключения'] = pd.to_datetime(df_page2['Месяц отключения'], format='%m/%Y').dt.to_period('M').dt.to_timestamp()\n",
    "\n",
    "df_page2.head(1)"
   ]
  },
  {
   "cell_type": "markdown",
   "metadata": {},
   "source": [
    "Посмотрим количество пропущенных значений"
   ]
  },
  {
   "cell_type": "code",
   "execution_count": 71,
   "metadata": {},
   "outputs": [
    {
     "data": {
      "text/plain": [
       "ID клиента           0\n",
       "ВКСП                86\n",
       "Месяц отключения     0\n",
       "dtype: int64"
      ]
     },
     "execution_count": 71,
     "metadata": {},
     "output_type": "execute_result"
    }
   ],
   "source": [
    "df_page2.isna().sum()"
   ]
  },
  {
   "cell_type": "markdown",
   "metadata": {},
   "source": [
    "Заменим пока пропущенные значения в поле \"ВКСП\" нулями, но потом возьмём их со страницы \"Продажи за год\""
   ]
  },
  {
   "cell_type": "code",
   "execution_count": 72,
   "metadata": {},
   "outputs": [],
   "source": [
    "df_page2.fillna(0, inplace=True)"
   ]
  },
  {
   "cell_type": "markdown",
   "metadata": {},
   "source": [
    "Найдём дубликаты"
   ]
  },
  {
   "cell_type": "code",
   "execution_count": 73,
   "metadata": {},
   "outputs": [
    {
     "data": {
      "text/html": [
       "<div>\n",
       "<style scoped>\n",
       "    .dataframe tbody tr th:only-of-type {\n",
       "        vertical-align: middle;\n",
       "    }\n",
       "\n",
       "    .dataframe tbody tr th {\n",
       "        vertical-align: top;\n",
       "    }\n",
       "\n",
       "    .dataframe thead th {\n",
       "        text-align: right;\n",
       "    }\n",
       "</style>\n",
       "<table border=\"1\" class=\"dataframe\">\n",
       "  <thead>\n",
       "    <tr style=\"text-align: right;\">\n",
       "      <th></th>\n",
       "      <th>ID клиента</th>\n",
       "      <th>ВКСП</th>\n",
       "      <th>Месяц отключения</th>\n",
       "    </tr>\n",
       "  </thead>\n",
       "  <tbody>\n",
       "    <tr>\n",
       "      <th>333</th>\n",
       "      <td>64249</td>\n",
       "      <td>0.7</td>\n",
       "      <td>2021-04-01</td>\n",
       "    </tr>\n",
       "  </tbody>\n",
       "</table>\n",
       "</div>"
      ],
      "text/plain": [
       "    ID клиента  ВКСП Месяц отключения\n",
       "333      64249   0.7       2021-04-01"
      ]
     },
     "execution_count": 73,
     "metadata": {},
     "output_type": "execute_result"
    }
   ],
   "source": [
    "duplicates = df_page2[df_page2.duplicated('ID клиента')]\n",
    "duplicates"
   ]
  },
  {
   "cell_type": "markdown",
   "metadata": {},
   "source": [
    "Дубликат нашелся, посмотрим на него внимательнее"
   ]
  },
  {
   "cell_type": "code",
   "execution_count": 74,
   "metadata": {},
   "outputs": [
    {
     "data": {
      "text/html": [
       "<div>\n",
       "<style scoped>\n",
       "    .dataframe tbody tr th:only-of-type {\n",
       "        vertical-align: middle;\n",
       "    }\n",
       "\n",
       "    .dataframe tbody tr th {\n",
       "        vertical-align: top;\n",
       "    }\n",
       "\n",
       "    .dataframe thead th {\n",
       "        text-align: right;\n",
       "    }\n",
       "</style>\n",
       "<table border=\"1\" class=\"dataframe\">\n",
       "  <thead>\n",
       "    <tr style=\"text-align: right;\">\n",
       "      <th></th>\n",
       "      <th>ID клиента</th>\n",
       "      <th>ВКСП</th>\n",
       "      <th>Месяц отключения</th>\n",
       "    </tr>\n",
       "  </thead>\n",
       "  <tbody>\n",
       "    <tr>\n",
       "      <th>126</th>\n",
       "      <td>64249</td>\n",
       "      <td>0.7</td>\n",
       "      <td>2020-10-01</td>\n",
       "    </tr>\n",
       "    <tr>\n",
       "      <th>333</th>\n",
       "      <td>64249</td>\n",
       "      <td>0.7</td>\n",
       "      <td>2021-04-01</td>\n",
       "    </tr>\n",
       "  </tbody>\n",
       "</table>\n",
       "</div>"
      ],
      "text/plain": [
       "    ID клиента  ВКСП Месяц отключения\n",
       "126      64249   0.7       2020-10-01\n",
       "333      64249   0.7       2021-04-01"
      ]
     },
     "execution_count": 74,
     "metadata": {},
     "output_type": "execute_result"
    }
   ],
   "source": [
    "duplicates = df_page2[df_page2['ID клиента'] == '64249']\n",
    "duplicates"
   ]
  },
  {
   "cell_type": "markdown",
   "metadata": {},
   "source": [
    "Посмотрим на данный \"ID клиента\" на странице \"Продажи за год\""
   ]
  },
  {
   "cell_type": "code",
   "execution_count": 75,
   "metadata": {},
   "outputs": [
    {
     "data": {
      "text/html": [
       "<div>\n",
       "<style scoped>\n",
       "    .dataframe tbody tr th:only-of-type {\n",
       "        vertical-align: middle;\n",
       "    }\n",
       "\n",
       "    .dataframe tbody tr th {\n",
       "        vertical-align: top;\n",
       "    }\n",
       "\n",
       "    .dataframe thead th {\n",
       "        text-align: right;\n",
       "    }\n",
       "</style>\n",
       "<table border=\"1\" class=\"dataframe\">\n",
       "  <thead>\n",
       "    <tr style=\"text-align: right;\">\n",
       "      <th></th>\n",
       "      <th>ID клиента</th>\n",
       "      <th>Месяц продажи</th>\n",
       "      <th>ВКСП</th>\n",
       "      <th>Сумма счета</th>\n",
       "    </tr>\n",
       "  </thead>\n",
       "  <tbody>\n",
       "    <tr>\n",
       "      <th>154</th>\n",
       "      <td>64249</td>\n",
       "      <td>2021-01-01</td>\n",
       "      <td>0.7</td>\n",
       "      <td>5849.84</td>\n",
       "    </tr>\n",
       "  </tbody>\n",
       "</table>\n",
       "</div>"
      ],
      "text/plain": [
       "    ID клиента Месяц продажи  ВКСП  Сумма счета\n",
       "154      64249    2021-01-01   0.7      5849.84"
      ]
     },
     "execution_count": 75,
     "metadata": {},
     "output_type": "execute_result"
    }
   ],
   "source": [
    "df_64249 = df_page1[df_page1['ID клиента'] == '64249']\n",
    "df_64249"
   ]
  },
  {
   "cell_type": "markdown",
   "metadata": {},
   "source": [
    "Клиент 64249 был подключен ранее в этом году. У него истекла подписка 10.2020, затем он снова приобрел её с 01.2021 по 04.2021. Для удобства разделим в продажах записи об этом клиенте на 2 разных ID, позже соберем запись обратно в одну."
   ]
  },
  {
   "cell_type": "code",
   "execution_count": 76,
   "metadata": {},
   "outputs": [],
   "source": [
    "# изменяем \"ID клиента\" в \"Отключениях за год\"\n",
    "df_page2.loc[126, 'ID клиента'] = '64249_1'\n",
    "df_page2.loc[333, 'ID клиента'] = '64249_2'\n",
    "\n",
    "# изменяем \"ID клиента\" в \"Продажах за год\"\n",
    "df_page1.loc[154, 'ID клиента'] = '64249_2'\n",
    "\n",
    "# добавляем новую запись\n",
    "new_record = {'ID клиента': '64249_1', 'Месяц продажи': '2020-05-01', 'ВКСП': 0.7, 'Сумма счета': 0}\n",
    "df_page1.loc[len(df_page1.index)] = new_record"
   ]
  },
  {
   "cell_type": "markdown",
   "metadata": {},
   "source": [
    "# Объединим \"Продажи за год\" и \"Отключения за год\" в один файл"
   ]
  },
  {
   "cell_type": "code",
   "execution_count": 77,
   "metadata": {},
   "outputs": [
    {
     "data": {
      "text/html": [
       "<div>\n",
       "<style scoped>\n",
       "    .dataframe tbody tr th:only-of-type {\n",
       "        vertical-align: middle;\n",
       "    }\n",
       "\n",
       "    .dataframe tbody tr th {\n",
       "        vertical-align: top;\n",
       "    }\n",
       "\n",
       "    .dataframe thead th {\n",
       "        text-align: right;\n",
       "    }\n",
       "</style>\n",
       "<table border=\"1\" class=\"dataframe\">\n",
       "  <thead>\n",
       "    <tr style=\"text-align: right;\">\n",
       "      <th></th>\n",
       "      <th>ID клиента</th>\n",
       "      <th>Месяц продажи</th>\n",
       "      <th>ВКСП_x</th>\n",
       "      <th>Сумма счета</th>\n",
       "      <th>ВКСП_y</th>\n",
       "      <th>Месяц отключения</th>\n",
       "    </tr>\n",
       "  </thead>\n",
       "  <tbody>\n",
       "    <tr>\n",
       "      <th>0</th>\n",
       "      <td>08056</td>\n",
       "      <td>2020-05-01</td>\n",
       "      <td>0.00</td>\n",
       "      <td>15240.50</td>\n",
       "      <td>NaN</td>\n",
       "      <td>NaN</td>\n",
       "    </tr>\n",
       "    <tr>\n",
       "      <th>1</th>\n",
       "      <td>42381</td>\n",
       "      <td>2020-05-01</td>\n",
       "      <td>0.00</td>\n",
       "      <td>0.00</td>\n",
       "      <td>NaN</td>\n",
       "      <td>NaN</td>\n",
       "    </tr>\n",
       "    <tr>\n",
       "      <th>2</th>\n",
       "      <td>51895</td>\n",
       "      <td>2020-05-01</td>\n",
       "      <td>0.00</td>\n",
       "      <td>5485.71</td>\n",
       "      <td>NaN</td>\n",
       "      <td>NaN</td>\n",
       "    </tr>\n",
       "    <tr>\n",
       "      <th>3</th>\n",
       "      <td>57656</td>\n",
       "      <td>2020-05-01</td>\n",
       "      <td>0.26</td>\n",
       "      <td>12500.00</td>\n",
       "      <td>NaN</td>\n",
       "      <td>NaN</td>\n",
       "    </tr>\n",
       "    <tr>\n",
       "      <th>4</th>\n",
       "      <td>60065</td>\n",
       "      <td>2020-05-01</td>\n",
       "      <td>0.70</td>\n",
       "      <td>4398.62</td>\n",
       "      <td>NaN</td>\n",
       "      <td>NaN</td>\n",
       "    </tr>\n",
       "    <tr>\n",
       "      <th>...</th>\n",
       "      <td>...</td>\n",
       "      <td>...</td>\n",
       "      <td>...</td>\n",
       "      <td>...</td>\n",
       "      <td>...</td>\n",
       "      <td>...</td>\n",
       "    </tr>\n",
       "    <tr>\n",
       "      <th>547</th>\n",
       "      <td>00632/69</td>\n",
       "      <td>NaN</td>\n",
       "      <td>NaN</td>\n",
       "      <td>NaN</td>\n",
       "      <td>0.00</td>\n",
       "      <td>2021-04-01</td>\n",
       "    </tr>\n",
       "    <tr>\n",
       "      <th>548</th>\n",
       "      <td>01470/13</td>\n",
       "      <td>NaN</td>\n",
       "      <td>NaN</td>\n",
       "      <td>NaN</td>\n",
       "      <td>0.00</td>\n",
       "      <td>2021-04-01</td>\n",
       "    </tr>\n",
       "    <tr>\n",
       "      <th>549</th>\n",
       "      <td>01470/27</td>\n",
       "      <td>NaN</td>\n",
       "      <td>NaN</td>\n",
       "      <td>NaN</td>\n",
       "      <td>0.00</td>\n",
       "      <td>2021-04-01</td>\n",
       "    </tr>\n",
       "    <tr>\n",
       "      <th>550</th>\n",
       "      <td>09344</td>\n",
       "      <td>NaN</td>\n",
       "      <td>NaN</td>\n",
       "      <td>NaN</td>\n",
       "      <td>1.56</td>\n",
       "      <td>2021-04-01</td>\n",
       "    </tr>\n",
       "    <tr>\n",
       "      <th>551</th>\n",
       "      <td>25792</td>\n",
       "      <td>NaN</td>\n",
       "      <td>NaN</td>\n",
       "      <td>NaN</td>\n",
       "      <td>0.00</td>\n",
       "      <td>2021-04-01</td>\n",
       "    </tr>\n",
       "  </tbody>\n",
       "</table>\n",
       "<p>552 rows × 6 columns</p>\n",
       "</div>"
      ],
      "text/plain": [
       "    ID клиента Месяц продажи  ВКСП_x  Сумма счета  ВКСП_y Месяц отключения\n",
       "0        08056    2020-05-01    0.00     15240.50     NaN              NaN\n",
       "1        42381    2020-05-01    0.00         0.00     NaN              NaN\n",
       "2        51895    2020-05-01    0.00      5485.71     NaN              NaN\n",
       "3        57656    2020-05-01    0.26     12500.00     NaN              NaN\n",
       "4        60065    2020-05-01    0.70      4398.62     NaN              NaN\n",
       "..         ...           ...     ...          ...     ...              ...\n",
       "547   00632/69           NaN     NaN          NaN    0.00       2021-04-01\n",
       "548   01470/13           NaN     NaN          NaN    0.00       2021-04-01\n",
       "549   01470/27           NaN     NaN          NaN    0.00       2021-04-01\n",
       "550      09344           NaN     NaN          NaN    1.56       2021-04-01\n",
       "551      25792           NaN     NaN          NaN    0.00       2021-04-01\n",
       "\n",
       "[552 rows x 6 columns]"
      ]
     },
     "execution_count": 77,
     "metadata": {},
     "output_type": "execute_result"
    }
   ],
   "source": [
    "df_page1['Месяц продажи'] = pd.to_datetime(df_page1['Месяц продажи']).dt.date\n",
    "df_page2['Месяц отключения'] = pd.to_datetime(df_page2['Месяц отключения']).dt.date\n",
    "\n",
    "df_main = df_page1.merge(df_page2, on=\"ID клиента\", how=\"outer\")\n",
    "df_main"
   ]
  },
  {
   "cell_type": "markdown",
   "metadata": {},
   "source": [
    "Заполним пропущенные значения \"Месяц продажи\" минимальными из \"Продажи за год\"\n",
    "\n",
    "Заполним пропущенные значения \"Месяц отключения\" максимальными из \"Отключения за год\"\n",
    "\n",
    "В ТЗ указано, что \"Системы Консультант+ оплачивается ежемесячно как подписка\", поэтому важно знать, сколько месяцев в году был подписан каждый клиент\n",
    "\n",
    "Посчитаем суммарно сколько месяцев в году был подписан каждый клиент (Максимальный месяц - Минимальный месяц)"
   ]
  },
  {
   "cell_type": "code",
   "execution_count": 78,
   "metadata": {},
   "outputs": [
    {
     "data": {
      "text/html": [
       "<div>\n",
       "<style scoped>\n",
       "    .dataframe tbody tr th:only-of-type {\n",
       "        vertical-align: middle;\n",
       "    }\n",
       "\n",
       "    .dataframe tbody tr th {\n",
       "        vertical-align: top;\n",
       "    }\n",
       "\n",
       "    .dataframe thead th {\n",
       "        text-align: right;\n",
       "    }\n",
       "</style>\n",
       "<table border=\"1\" class=\"dataframe\">\n",
       "  <thead>\n",
       "    <tr style=\"text-align: right;\">\n",
       "      <th></th>\n",
       "      <th>ID клиента</th>\n",
       "      <th>Минимальный месяц</th>\n",
       "      <th>Сумма счета</th>\n",
       "      <th>Максимальный месяц</th>\n",
       "      <th>Подписан месяцев за год предварительно</th>\n",
       "    </tr>\n",
       "  </thead>\n",
       "  <tbody>\n",
       "    <tr>\n",
       "      <th>226</th>\n",
       "      <td>22303</td>\n",
       "      <td>2021-04-01</td>\n",
       "      <td>5661.31</td>\n",
       "      <td>2020-06-01</td>\n",
       "      <td>-10.0</td>\n",
       "    </tr>\n",
       "  </tbody>\n",
       "</table>\n",
       "</div>"
      ],
      "text/plain": [
       "    ID клиента Минимальный месяц  Сумма счета Максимальный месяц  \\\n",
       "226      22303        2021-04-01      5661.31         2020-06-01   \n",
       "\n",
       "     Подписан месяцев за год предварительно  \n",
       "226                                   -10.0  "
      ]
     },
     "execution_count": 78,
     "metadata": {},
     "output_type": "execute_result"
    }
   ],
   "source": [
    "# заполняем пропущенные значения\n",
    "df_main['Месяц продажи'].fillna(min(df_page1['Месяц продажи']), inplace=True)\n",
    "df_main['Месяц отключения'].fillna(max(df_page2['Месяц отключения']), inplace=True)\n",
    "\n",
    "# удаляем лишние поля\n",
    "df_main.drop('ВКСП_x', axis=1, inplace=True)\n",
    "df_main.drop('ВКСП_y', axis=1, inplace=True)\n",
    "\n",
    "# изменяем названия полей\n",
    "df_main.rename(columns={'Месяц продажи': 'Минимальный месяц', 'Месяц отключения': 'Максимальный месяц'}, inplace=True)\n",
    "\n",
    "# преобразуем значения в формат даты\n",
    "df_main['Максимальный месяц'] = pd.to_datetime(df_main['Максимальный месяц'])\n",
    "df_main['Минимальный месяц'] = pd.to_datetime(df_main['Минимальный месяц'])\n",
    "\n",
    "# создаем новый столбец \"Количество месяцев\"\n",
    "df_main['Подписан месяцев за год предварительно'] = (df_main['Максимальный месяц'] - df_main['Минимальный месяц']) / pd.Timedelta(days=30.44)\n",
    "\n",
    "# округляем значения до целых чисел\n",
    "df_main['Подписан месяцев за год предварительно'] = df_main['Подписан месяцев за год предварительно'].round()\n",
    "\n",
    "df_main = df_main.sort_values(by='Подписан месяцев за год предварительно', ascending=True)\n",
    "\n",
    "df_main.head(1)"
   ]
  },
  {
   "cell_type": "markdown",
   "metadata": {},
   "source": [
    "У некоторых клиентов получилось отрицательные суммы месяцев. Например:\n",
    "\n",
    "\n",
    "ID клиента: 22303\n",
    "\n",
    "Минимальный месяц: 2021-04-01\n",
    "\n",
    "Максимальный месяц: 2020-06-01\n",
    "\n",
    "Подписан месяцев за год предварительно: -10.0"
   ]
  },
  {
   "cell_type": "markdown",
   "metadata": {},
   "source": [
    "У данного клиента \"Минимальный месяц\" больше \"Максимального месяца\", что говорит о том, что клиент был подписан с какого-то периода ПО 06.2020 и затем вновь переподписался С 04.2021."
   ]
  },
  {
   "cell_type": "markdown",
   "metadata": {},
   "source": [
    "Для таких клиентов рассчитаем количество месяцев следующим образом:\n",
    "\n",
    "Максимальный \"Месяц отключения\" из \"Отключения за год\" - Минимальный \"Месяц продажи\" из \"Продажи за год\" - количество месяцев перерыва (полученные отрицательные значения)"
   ]
  },
  {
   "cell_type": "code",
   "execution_count": 79,
   "metadata": {},
   "outputs": [
    {
     "data": {
      "text/html": [
       "<div>\n",
       "<style scoped>\n",
       "    .dataframe tbody tr th:only-of-type {\n",
       "        vertical-align: middle;\n",
       "    }\n",
       "\n",
       "    .dataframe tbody tr th {\n",
       "        vertical-align: top;\n",
       "    }\n",
       "\n",
       "    .dataframe thead th {\n",
       "        text-align: right;\n",
       "    }\n",
       "</style>\n",
       "<table border=\"1\" class=\"dataframe\">\n",
       "  <thead>\n",
       "    <tr style=\"text-align: right;\">\n",
       "      <th></th>\n",
       "      <th>ID клиента</th>\n",
       "      <th>Минимальный месяц</th>\n",
       "      <th>Сумма счета</th>\n",
       "      <th>Максимальный месяц</th>\n",
       "      <th>Подписан месяцев за год предварительно</th>\n",
       "      <th>Подписан месяцев за год</th>\n",
       "      <th>Переподписка</th>\n",
       "    </tr>\n",
       "  </thead>\n",
       "  <tbody>\n",
       "    <tr>\n",
       "      <th>374</th>\n",
       "      <td>00240/89</td>\n",
       "      <td>2020-05-01</td>\n",
       "      <td>NaN</td>\n",
       "      <td>2020-11-01</td>\n",
       "      <td>6.0</td>\n",
       "      <td>7.0</td>\n",
       "      <td>0</td>\n",
       "    </tr>\n",
       "    <tr>\n",
       "      <th>539</th>\n",
       "      <td>00254</td>\n",
       "      <td>2020-05-01</td>\n",
       "      <td>NaN</td>\n",
       "      <td>2021-04-01</td>\n",
       "      <td>11.0</td>\n",
       "      <td>12.0</td>\n",
       "      <td>0</td>\n",
       "    </tr>\n",
       "    <tr>\n",
       "      <th>148</th>\n",
       "      <td>00274</td>\n",
       "      <td>2021-01-01</td>\n",
       "      <td>11436.12</td>\n",
       "      <td>2021-04-01</td>\n",
       "      <td>3.0</td>\n",
       "      <td>4.0</td>\n",
       "      <td>0</td>\n",
       "    </tr>\n",
       "    <tr>\n",
       "      <th>358</th>\n",
       "      <td>00296-15</td>\n",
       "      <td>2020-05-01</td>\n",
       "      <td>NaN</td>\n",
       "      <td>2020-11-01</td>\n",
       "      <td>6.0</td>\n",
       "      <td>7.0</td>\n",
       "      <td>0</td>\n",
       "    </tr>\n",
       "    <tr>\n",
       "      <th>303</th>\n",
       "      <td>00296-16</td>\n",
       "      <td>2020-05-01</td>\n",
       "      <td>NaN</td>\n",
       "      <td>2020-08-01</td>\n",
       "      <td>3.0</td>\n",
       "      <td>4.0</td>\n",
       "      <td>0</td>\n",
       "    </tr>\n",
       "    <tr>\n",
       "      <th>...</th>\n",
       "      <td>...</td>\n",
       "      <td>...</td>\n",
       "      <td>...</td>\n",
       "      <td>...</td>\n",
       "      <td>...</td>\n",
       "      <td>...</td>\n",
       "      <td>...</td>\n",
       "    </tr>\n",
       "    <tr>\n",
       "      <th>113</th>\n",
       "      <td>78020</td>\n",
       "      <td>2020-12-01</td>\n",
       "      <td>6734.45</td>\n",
       "      <td>2021-04-01</td>\n",
       "      <td>4.0</td>\n",
       "      <td>5.0</td>\n",
       "      <td>0</td>\n",
       "    </tr>\n",
       "    <tr>\n",
       "      <th>114</th>\n",
       "      <td>78024</td>\n",
       "      <td>2020-12-01</td>\n",
       "      <td>5661.31</td>\n",
       "      <td>2021-04-01</td>\n",
       "      <td>4.0</td>\n",
       "      <td>5.0</td>\n",
       "      <td>0</td>\n",
       "    </tr>\n",
       "    <tr>\n",
       "      <th>189</th>\n",
       "      <td>78062</td>\n",
       "      <td>2021-02-01</td>\n",
       "      <td>6789.53</td>\n",
       "      <td>2021-04-01</td>\n",
       "      <td>2.0</td>\n",
       "      <td>3.0</td>\n",
       "      <td>0</td>\n",
       "    </tr>\n",
       "    <tr>\n",
       "      <th>218</th>\n",
       "      <td>81152</td>\n",
       "      <td>2021-03-01</td>\n",
       "      <td>3730.20</td>\n",
       "      <td>2021-04-01</td>\n",
       "      <td>1.0</td>\n",
       "      <td>2.0</td>\n",
       "      <td>0</td>\n",
       "    </tr>\n",
       "    <tr>\n",
       "      <th>221</th>\n",
       "      <td>84284</td>\n",
       "      <td>2021-03-01</td>\n",
       "      <td>4009.07</td>\n",
       "      <td>2021-04-01</td>\n",
       "      <td>1.0</td>\n",
       "      <td>2.0</td>\n",
       "      <td>0</td>\n",
       "    </tr>\n",
       "  </tbody>\n",
       "</table>\n",
       "<p>552 rows × 7 columns</p>\n",
       "</div>"
      ],
      "text/plain": [
       "    ID клиента Минимальный месяц  Сумма счета Максимальный месяц  \\\n",
       "374   00240/89        2020-05-01          NaN         2020-11-01   \n",
       "539      00254        2020-05-01          NaN         2021-04-01   \n",
       "148      00274        2021-01-01     11436.12         2021-04-01   \n",
       "358   00296-15        2020-05-01          NaN         2020-11-01   \n",
       "303   00296-16        2020-05-01          NaN         2020-08-01   \n",
       "..         ...               ...          ...                ...   \n",
       "113      78020        2020-12-01      6734.45         2021-04-01   \n",
       "114      78024        2020-12-01      5661.31         2021-04-01   \n",
       "189      78062        2021-02-01      6789.53         2021-04-01   \n",
       "218      81152        2021-03-01      3730.20         2021-04-01   \n",
       "221      84284        2021-03-01      4009.07         2021-04-01   \n",
       "\n",
       "     Подписан месяцев за год предварительно  Подписан месяцев за год  \\\n",
       "374                                     6.0                      7.0   \n",
       "539                                    11.0                     12.0   \n",
       "148                                     3.0                      4.0   \n",
       "358                                     6.0                      7.0   \n",
       "303                                     3.0                      4.0   \n",
       "..                                      ...                      ...   \n",
       "113                                     4.0                      5.0   \n",
       "114                                     4.0                      5.0   \n",
       "189                                     2.0                      3.0   \n",
       "218                                     1.0                      2.0   \n",
       "221                                     1.0                      2.0   \n",
       "\n",
       "     Переподписка  \n",
       "374             0  \n",
       "539             0  \n",
       "148             0  \n",
       "358             0  \n",
       "303             0  \n",
       "..            ...  \n",
       "113             0  \n",
       "114             0  \n",
       "189             0  \n",
       "218             0  \n",
       "221             0  \n",
       "\n",
       "[552 rows x 7 columns]"
      ]
     },
     "execution_count": 79,
     "metadata": {},
     "output_type": "execute_result"
    }
   ],
   "source": [
    "# считаем полное количество месяцев в данных\n",
    "month_count = round((max(df_page2['Месяц отключения']) - min(df_page1['Месяц продажи'])) / pd.Timedelta(days=30.44))\n",
    "\n",
    "# функция для подсчета числа месяцев подписки\n",
    "def calculate_month_count(row):\n",
    "    if row['Подписан месяцев за год предварительно'] >= 0:\n",
    "        return row['Подписан месяцев за год предварительно'] + 1 # значениям равным 0 добавляем +1, тк не может быть подписка на 0 мес\n",
    "    else:\n",
    "        return month_count + row['Подписан месяцев за год предварительно'] + 2 # аналогично +2, тк 2 используются 2 периода\n",
    "\n",
    "# функция проставляет 1 тем, кто был переподписан\n",
    "def was_subscribed(row):\n",
    "    if row['Подписан месяцев за год предварительно'] >= 0:\n",
    "        return 0\n",
    "    else:\n",
    "        return 1\n",
    "\n",
    "# применяем функции к DataFrame\n",
    "df_main['Подписан месяцев за год'] = df_main.apply(calculate_month_count, axis=1)\n",
    "df_main['Переподписка'] = df_main.apply(was_subscribed, axis=1)\n",
    "\n",
    "# отсортируем по ID клиента и просмотрим глазами корректность данных\n",
    "df_main = df_main.sort_values(by='ID клиента', ascending=True)\n",
    "df_main"
   ]
  },
  {
   "cell_type": "markdown",
   "metadata": {},
   "source": [
    "Поскольку \"Необходимо провести анализ клиентов, которые купили системы\", добавим полученную информацию только в файл \"Продажи за год\""
   ]
  },
  {
   "cell_type": "code",
   "execution_count": 80,
   "metadata": {},
   "outputs": [],
   "source": [
    "df_sales = pd.merge(df_page1, df_main[['ID клиента', 'Подписан месяцев за год']], on='ID клиента', how='left')\n",
    "df_sales = pd.merge(df_sales, df_main[['ID клиента', 'Переподписка']], on='ID клиента', how='left')"
   ]
  },
  {
   "cell_type": "markdown",
   "metadata": {},
   "source": [
    "# Посмотрим готовый финальный набор данных по продажам и отключениям"
   ]
  },
  {
   "cell_type": "markdown",
   "metadata": {},
   "source": [
    "Посмотрим полученные значения для клиента 64249, которого мы разделяли на 2 записи ранее"
   ]
  },
  {
   "cell_type": "code",
   "execution_count": 81,
   "metadata": {},
   "outputs": [
    {
     "data": {
      "text/html": [
       "<div>\n",
       "<style scoped>\n",
       "    .dataframe tbody tr th:only-of-type {\n",
       "        vertical-align: middle;\n",
       "    }\n",
       "\n",
       "    .dataframe tbody tr th {\n",
       "        vertical-align: top;\n",
       "    }\n",
       "\n",
       "    .dataframe thead th {\n",
       "        text-align: right;\n",
       "    }\n",
       "</style>\n",
       "<table border=\"1\" class=\"dataframe\">\n",
       "  <thead>\n",
       "    <tr style=\"text-align: right;\">\n",
       "      <th></th>\n",
       "      <th>ID клиента</th>\n",
       "      <th>Месяц продажи</th>\n",
       "      <th>ВКСП</th>\n",
       "      <th>Сумма счета</th>\n",
       "      <th>Подписан месяцев за год</th>\n",
       "      <th>Переподписка</th>\n",
       "    </tr>\n",
       "  </thead>\n",
       "  <tbody>\n",
       "    <tr>\n",
       "      <th>154</th>\n",
       "      <td>64249_2</td>\n",
       "      <td>2021-01-01</td>\n",
       "      <td>0.7</td>\n",
       "      <td>5849.84</td>\n",
       "      <td>4.0</td>\n",
       "      <td>0</td>\n",
       "    </tr>\n",
       "    <tr>\n",
       "      <th>242</th>\n",
       "      <td>64249_1</td>\n",
       "      <td>2020-05-01</td>\n",
       "      <td>0.7</td>\n",
       "      <td>0.00</td>\n",
       "      <td>6.0</td>\n",
       "      <td>0</td>\n",
       "    </tr>\n",
       "  </tbody>\n",
       "</table>\n",
       "</div>"
      ],
      "text/plain": [
       "    ID клиента Месяц продажи  ВКСП  Сумма счета  Подписан месяцев за год  \\\n",
       "154    64249_2    2021-01-01   0.7      5849.84                      4.0   \n",
       "242    64249_1    2020-05-01   0.7         0.00                      6.0   \n",
       "\n",
       "     Переподписка  \n",
       "154             0  \n",
       "242             0  "
      ]
     },
     "execution_count": 81,
     "metadata": {},
     "output_type": "execute_result"
    }
   ],
   "source": [
    "df_64249 = df_sales[df_sales['ID клиента'].isin(['64249_1', '64249_2'])]\n",
    "df_64249"
   ]
  },
  {
   "cell_type": "markdown",
   "metadata": {},
   "source": [
    "Соберем полученные данные обратно в одну запись"
   ]
  },
  {
   "cell_type": "code",
   "execution_count": 82,
   "metadata": {},
   "outputs": [],
   "source": [
    "new_record = {'ID клиента': '64249', 'Месяц продажи': '2021-01-01', 'ВКСП': 0.7,\n",
    "              'Сумма счета': 5849.84, 'Подписан месяцев за год': 10, 'Переподписка': 1}\n",
    "df_sales.loc[len(df_sales.index)] = new_record\n",
    "df_sales = df_sales[~df_sales['ID клиента'].isin(['64249_1', '64249_2'])]\n"
   ]
  },
  {
   "cell_type": "markdown",
   "metadata": {},
   "source": [
    "Как указано в ТЗ \"Не все клиенты являются плательщиками, есть клиенты, за системы которых платит их головная организация\". Добавим информацию в поле \"Оплачивает головная организация\" для тех клиентов, где \"Сумма счета\" = 0"
   ]
  },
  {
   "cell_type": "code",
   "execution_count": 83,
   "metadata": {},
   "outputs": [],
   "source": [
    "# добавляем столбец \"Оплачивает головная организация\"\n",
    "df_sales['Оплачивает головная организация'] = (df_sales['Сумма счета'] == 0).astype(int)\n",
    "\n",
    "# удалим столбец \"Месяц продажи\", тк мы собрали всю нужную информацию по датам\n",
    "df_sales.drop('Месяц продажи', axis=1, inplace=True)"
   ]
  },
  {
   "cell_type": "markdown",
   "metadata": {},
   "source": [
    "# Посмотрим информацию о клиентах"
   ]
  },
  {
   "cell_type": "code",
   "execution_count": 84,
   "metadata": {},
   "outputs": [
    {
     "data": {
      "text/html": [
       "<div>\n",
       "<style scoped>\n",
       "    .dataframe tbody tr th:only-of-type {\n",
       "        vertical-align: middle;\n",
       "    }\n",
       "\n",
       "    .dataframe tbody tr th {\n",
       "        vertical-align: top;\n",
       "    }\n",
       "\n",
       "    .dataframe thead th {\n",
       "        text-align: right;\n",
       "    }\n",
       "</style>\n",
       "<table border=\"1\" class=\"dataframe\">\n",
       "  <thead>\n",
       "    <tr style=\"text-align: right;\">\n",
       "      <th></th>\n",
       "      <th>ID клиента</th>\n",
       "      <th>Количество пользователей систем</th>\n",
       "      <th>Вид деятельности</th>\n",
       "      <th>Территория</th>\n",
       "      <th>Коммерческое/Бюджетное</th>\n",
       "      <th>ОРР</th>\n",
       "      <th>Сегмент</th>\n",
       "    </tr>\n",
       "  </thead>\n",
       "  <tbody>\n",
       "    <tr>\n",
       "      <th>0</th>\n",
       "      <td>08056</td>\n",
       "      <td>12.0</td>\n",
       "      <td>Медицина. Здравоохранение</td>\n",
       "      <td>Красноярск</td>\n",
       "      <td>Бюджетное</td>\n",
       "      <td>КГБУЗ</td>\n",
       "      <td>VIP</td>\n",
       "    </tr>\n",
       "    <tr>\n",
       "      <th>1</th>\n",
       "      <td>42381</td>\n",
       "      <td>4.0</td>\n",
       "      <td>Иные услуги</td>\n",
       "      <td>Красноярск</td>\n",
       "      <td>Коммерческое</td>\n",
       "      <td>ПАО</td>\n",
       "      <td>NaN</td>\n",
       "    </tr>\n",
       "    <tr>\n",
       "      <th>2</th>\n",
       "      <td>51895</td>\n",
       "      <td>8.0</td>\n",
       "      <td>Государственная структура</td>\n",
       "      <td>Красноярск</td>\n",
       "      <td>Бюджетное</td>\n",
       "      <td>КГБУ СО</td>\n",
       "      <td>Средний</td>\n",
       "    </tr>\n",
       "    <tr>\n",
       "      <th>3</th>\n",
       "      <td>57656</td>\n",
       "      <td>4.0</td>\n",
       "      <td>Государственная структура</td>\n",
       "      <td>Красноярск</td>\n",
       "      <td>Бюджетное</td>\n",
       "      <td>КГБУ СО</td>\n",
       "      <td>Средний</td>\n",
       "    </tr>\n",
       "    <tr>\n",
       "      <th>4</th>\n",
       "      <td>60065</td>\n",
       "      <td>1.0</td>\n",
       "      <td>Строительство</td>\n",
       "      <td>Красноярск</td>\n",
       "      <td>Коммерческое</td>\n",
       "      <td>ООО</td>\n",
       "      <td>Локальный</td>\n",
       "    </tr>\n",
       "  </tbody>\n",
       "</table>\n",
       "</div>"
      ],
      "text/plain": [
       "  ID клиента  Количество пользователей систем           Вид деятельности  \\\n",
       "0      08056                             12.0  Медицина. Здравоохранение   \n",
       "1      42381                              4.0                Иные услуги   \n",
       "2      51895                              8.0  Государственная структура   \n",
       "3      57656                              4.0  Государственная структура   \n",
       "4      60065                              1.0              Строительство   \n",
       "\n",
       "   Территория Коммерческое/Бюджетное      ОРР    Сегмент  \n",
       "0  Красноярск              Бюджетное    КГБУЗ        VIP  \n",
       "1  Красноярск           Коммерческое      ПАО        NaN  \n",
       "2  Красноярск              Бюджетное  КГБУ СО    Средний  \n",
       "3  Красноярск              Бюджетное  КГБУ СО    Средний  \n",
       "4  Красноярск           Коммерческое      ООО  Локальный  "
      ]
     },
     "execution_count": 84,
     "metadata": {},
     "output_type": "execute_result"
    }
   ],
   "source": [
    "# переименуем столбец \"Орг.-прав. форма (OPP)\" в \"ОРР\" для удобства\n",
    "df_client.rename(columns={'Орг.-прав. форма (OPP)': 'ОРР'}, inplace=True)\n",
    "df_client.head()"
   ]
  },
  {
   "cell_type": "markdown",
   "metadata": {},
   "source": [
    "Посмотрим количество пропущенных значений"
   ]
  },
  {
   "cell_type": "code",
   "execution_count": 85,
   "metadata": {},
   "outputs": [
    {
     "data": {
      "text/plain": [
       "ID клиента                          0\n",
       "Количество пользователей систем     1\n",
       "Вид деятельности                   10\n",
       "Территория                          0\n",
       "Коммерческое/Бюджетное              0\n",
       "ОРР                                30\n",
       "Сегмент                            19\n",
       "dtype: int64"
      ]
     },
     "execution_count": 85,
     "metadata": {},
     "output_type": "execute_result"
    }
   ],
   "source": [
    "df_client.isna().sum()"
   ]
  },
  {
   "cell_type": "markdown",
   "metadata": {},
   "source": [
    "Заполним пропущенные значения по следующему принципу:\n",
    "\n",
    "Количество пользователей систем - имеется 1 пропущенное значение, количество пользователей не может быть 0, поэтому запишем 1\n",
    "\n",
    "Вид деятельности - добавим строковое наименование \"Пропущенное значение\"\n",
    "\n",
    "ОРР - добавим строковое наименование \"Пропущенное значение\"\n",
    "\n",
    "Сегмент - добавим строковое наименование \"Пропущенное значение\""
   ]
  },
  {
   "cell_type": "code",
   "execution_count": 86,
   "metadata": {},
   "outputs": [],
   "source": [
    "df_client['Количество пользователей систем'].fillna(1, inplace=True)\n",
    "df_client['Вид деятельности'].fillna('Пропущенное значение', inplace=True)\n",
    "df_client['ОРР'].fillna('Пропущенное значение', inplace=True)\n",
    "df_client['Сегмент'].fillna('Пропущенное значение', inplace=True)"
   ]
  },
  {
   "cell_type": "markdown",
   "metadata": {},
   "source": [
    "Далее просмотрим на уникальность каждое из полей информации о клиентах и выявим ошибки"
   ]
  },
  {
   "cell_type": "code",
   "execution_count": 87,
   "metadata": {},
   "outputs": [
    {
     "data": {
      "text/plain": [
       "array(['Аудит. Бухгалтерский учет', 'Бытовые услуги. Обслуживание',\n",
       "       'Государственная структура', 'Жилищно-коммунальное хозяйство',\n",
       "       'Иные услуги', 'Культура и искусство', 'Лесозаготовка',\n",
       "       'Медицина. Здравоохранение', 'Наука и образование',\n",
       "       'Общественное питание',\n",
       "       'Общественные, Религиозные, Социальные, Политические организации',\n",
       "       'Промышленность. Производство', 'Пропущенное значение',\n",
       "       'СМИ. Реклама. Маркетинг', 'Сельское хозяйство', 'Спорт',\n",
       "       'Строительство', 'Торговля-опт', 'Торговля-розница',\n",
       "       'Транспорт. Логистика', 'Финансы, кредит, инвестирование',\n",
       "       'Юридические услуги'], dtype=object)"
      ]
     },
     "execution_count": 87,
     "metadata": {},
     "output_type": "execute_result"
    }
   ],
   "source": [
    "unique = df_client['Вид деятельности'].unique()\n",
    "unique.sort()\n",
    "unique"
   ]
  },
  {
   "cell_type": "markdown",
   "metadata": {},
   "source": [
    "Ошибок в поле \"Вид деятельности\" не найдено"
   ]
  },
  {
   "cell_type": "code",
   "execution_count": 88,
   "metadata": {},
   "outputs": [
    {
     "data": {
      "text/plain": [
       "array(['Ачинское отделение', 'Заозерное отделение', 'Канское отделение',\n",
       "       'Красноярск', 'Лесосибирское отделение', 'Минусинское отделение',\n",
       "       'Норильское отделение', 'Шарыповское отделение'], dtype=object)"
      ]
     },
     "execution_count": 88,
     "metadata": {},
     "output_type": "execute_result"
    }
   ],
   "source": [
    "unique = df_client['Территория'].unique()\n",
    "unique.sort()\n",
    "unique"
   ]
  },
  {
   "cell_type": "markdown",
   "metadata": {},
   "source": [
    "Ошибок в поле \"Территория\" не найдено"
   ]
  },
  {
   "cell_type": "code",
   "execution_count": 89,
   "metadata": {},
   "outputs": [
    {
     "data": {
      "text/plain": [
       "array(['Автономные', 'Бюджетное', 'Казенное', 'Коммерческое',\n",
       "       'Прочие некоммерческие организации'], dtype=object)"
      ]
     },
     "execution_count": 89,
     "metadata": {},
     "output_type": "execute_result"
    }
   ],
   "source": [
    "unique = df_client['Коммерческое/Бюджетное'].unique()\n",
    "unique.sort()\n",
    "unique"
   ]
  },
  {
   "cell_type": "markdown",
   "metadata": {},
   "source": [
    "Ошибок в поле \"Коммерческое/Бюджетное\" не найдено"
   ]
  },
  {
   "cell_type": "code",
   "execution_count": 90,
   "metadata": {},
   "outputs": [
    {
     "data": {
      "text/plain": [
       "array(['АНО', 'АО', 'ГП', 'ГУ', 'ИП', 'КГАУ', 'КГБОУ', 'КГБПОУ', 'КГБУ',\n",
       "       'КГБУ СО', 'КГБУЗ', 'КГБУСО', 'КГКУ', 'КГООУ СПО', 'КГОУ',\n",
       "       'Казенные учреждения', 'МАУ', 'МАУ ДО', 'МБОУ', 'МБУ', 'МКУ', 'МП',\n",
       "       'МУ', 'МУЧ', 'НОТК', 'НОУ', 'ОАО', 'ООО', 'ПАО',\n",
       "       'Пропущенное значение', 'ФГУП', 'Фонд', 'ЧДОУ',\n",
       "       'казенное учреждение',\n",
       "       'краевое государственное казенное учреждение'], dtype=object)"
      ]
     },
     "execution_count": 90,
     "metadata": {},
     "output_type": "execute_result"
    }
   ],
   "source": [
    "unique = df_client['ОРР'].unique()\n",
    "unique.sort()\n",
    "unique"
   ]
  },
  {
   "cell_type": "markdown",
   "metadata": {},
   "source": [
    "Найдены следующие ошибки:\n",
    "\n",
    "\"КГБУ СО\" и \"КГБУСО\" где-то записаны с пробелом, где-то без пробела\n",
    "\n",
    "\"КГКУ\" где-то расписано как \"краевое государственное казенное учреждение\"\n",
    "\n",
    "\"Казенные учреждения\" и \"казенное учреждение\" изменяем на \"Казенное учреждение\""
   ]
  },
  {
   "cell_type": "code",
   "execution_count": 91,
   "metadata": {},
   "outputs": [
    {
     "data": {
      "text/plain": [
       "array(['АНО', 'АО', 'ГП', 'ГУ', 'ИП', 'КГАУ', 'КГБОУ', 'КГБПОУ', 'КГБУ',\n",
       "       'КГБУЗ', 'КГБУСО', 'КГКУ', 'КГООУ СПО', 'КГОУ',\n",
       "       'Казенное учреждение', 'МАУ', 'МАУ ДО', 'МБОУ', 'МБУ', 'МКУ', 'МП',\n",
       "       'МУ', 'МУЧ', 'НОТК', 'НОУ', 'ОАО', 'ООО', 'ПАО',\n",
       "       'Пропущенное значение', 'ФГУП', 'Фонд', 'ЧДОУ'], dtype=object)"
      ]
     },
     "execution_count": 91,
     "metadata": {},
     "output_type": "execute_result"
    }
   ],
   "source": [
    "# исправляем ошибки\n",
    "df_client['ОРР'] = df_client['ОРР'].replace('КГБУ СО', 'КГБУСО')\n",
    "df_client['ОРР'] = df_client['ОРР'].replace('краевое государственное казенное учреждение', 'КГКУ')\n",
    "df_client['ОРР'] = df_client['ОРР'].replace('Казенные учреждения', 'Казенное учреждение')\n",
    "df_client['ОРР'] = df_client['ОРР'].replace('казенное учреждение', 'Казенное учреждение')\n",
    "\n",
    "# проверяем еще раз\n",
    "unique = df_client['ОРР'].unique()\n",
    "unique.sort()\n",
    "unique"
   ]
  },
  {
   "cell_type": "markdown",
   "metadata": {},
   "source": [
    "Ошибок в поле \"ОРР\" не найдено"
   ]
  },
  {
   "cell_type": "code",
   "execution_count": 92,
   "metadata": {},
   "outputs": [
    {
     "data": {
      "text/plain": [
       "array(['VIP', 'Локальный', 'Пропущенное значение', 'Средний'],\n",
       "      dtype=object)"
      ]
     },
     "execution_count": 92,
     "metadata": {},
     "output_type": "execute_result"
    }
   ],
   "source": [
    "unique = df_client['Сегмент'].unique()\n",
    "unique.sort()\n",
    "unique"
   ]
  },
  {
   "cell_type": "markdown",
   "metadata": {},
   "source": [
    "Ошибок в поле \"Сегмент\" не найдено"
   ]
  },
  {
   "cell_type": "markdown",
   "metadata": {},
   "source": [
    "# Соединяем всю информацию из \"Продажи и отключения за год\" с \"Доп. свойства клиентов\""
   ]
  },
  {
   "cell_type": "code",
   "execution_count": 93,
   "metadata": {},
   "outputs": [
    {
     "data": {
      "text/html": [
       "<div>\n",
       "<style scoped>\n",
       "    .dataframe tbody tr th:only-of-type {\n",
       "        vertical-align: middle;\n",
       "    }\n",
       "\n",
       "    .dataframe tbody tr th {\n",
       "        vertical-align: top;\n",
       "    }\n",
       "\n",
       "    .dataframe thead th {\n",
       "        text-align: right;\n",
       "    }\n",
       "</style>\n",
       "<table border=\"1\" class=\"dataframe\">\n",
       "  <thead>\n",
       "    <tr style=\"text-align: right;\">\n",
       "      <th></th>\n",
       "      <th>ID клиента</th>\n",
       "      <th>ВКСП</th>\n",
       "      <th>Сумма счета</th>\n",
       "      <th>Подписан месяцев за год</th>\n",
       "      <th>Переподписка</th>\n",
       "      <th>Оплачивает головная организация</th>\n",
       "      <th>Количество пользователей систем</th>\n",
       "      <th>Вид деятельности</th>\n",
       "      <th>Территория</th>\n",
       "      <th>Коммерческое/Бюджетное</th>\n",
       "      <th>ОРР</th>\n",
       "      <th>Сегмент</th>\n",
       "    </tr>\n",
       "  </thead>\n",
       "  <tbody>\n",
       "    <tr>\n",
       "      <th>0</th>\n",
       "      <td>08056</td>\n",
       "      <td>0.00</td>\n",
       "      <td>15240.50</td>\n",
       "      <td>12.0</td>\n",
       "      <td>0</td>\n",
       "      <td>0</td>\n",
       "      <td>12.0</td>\n",
       "      <td>Медицина. Здравоохранение</td>\n",
       "      <td>Красноярск</td>\n",
       "      <td>Бюджетное</td>\n",
       "      <td>КГБУЗ</td>\n",
       "      <td>VIP</td>\n",
       "    </tr>\n",
       "    <tr>\n",
       "      <th>1</th>\n",
       "      <td>42381</td>\n",
       "      <td>0.00</td>\n",
       "      <td>0.00</td>\n",
       "      <td>12.0</td>\n",
       "      <td>0</td>\n",
       "      <td>1</td>\n",
       "      <td>4.0</td>\n",
       "      <td>Иные услуги</td>\n",
       "      <td>Красноярск</td>\n",
       "      <td>Коммерческое</td>\n",
       "      <td>ПАО</td>\n",
       "      <td>Пропущенное значение</td>\n",
       "    </tr>\n",
       "    <tr>\n",
       "      <th>2</th>\n",
       "      <td>51895</td>\n",
       "      <td>0.00</td>\n",
       "      <td>5485.71</td>\n",
       "      <td>12.0</td>\n",
       "      <td>0</td>\n",
       "      <td>0</td>\n",
       "      <td>8.0</td>\n",
       "      <td>Государственная структура</td>\n",
       "      <td>Красноярск</td>\n",
       "      <td>Бюджетное</td>\n",
       "      <td>КГБУСО</td>\n",
       "      <td>Средний</td>\n",
       "    </tr>\n",
       "    <tr>\n",
       "      <th>3</th>\n",
       "      <td>57656</td>\n",
       "      <td>0.26</td>\n",
       "      <td>12500.00</td>\n",
       "      <td>12.0</td>\n",
       "      <td>0</td>\n",
       "      <td>0</td>\n",
       "      <td>4.0</td>\n",
       "      <td>Государственная структура</td>\n",
       "      <td>Красноярск</td>\n",
       "      <td>Бюджетное</td>\n",
       "      <td>КГБУСО</td>\n",
       "      <td>Средний</td>\n",
       "    </tr>\n",
       "    <tr>\n",
       "      <th>4</th>\n",
       "      <td>60065</td>\n",
       "      <td>0.70</td>\n",
       "      <td>4398.62</td>\n",
       "      <td>12.0</td>\n",
       "      <td>0</td>\n",
       "      <td>0</td>\n",
       "      <td>1.0</td>\n",
       "      <td>Строительство</td>\n",
       "      <td>Красноярск</td>\n",
       "      <td>Коммерческое</td>\n",
       "      <td>ООО</td>\n",
       "      <td>Локальный</td>\n",
       "    </tr>\n",
       "  </tbody>\n",
       "</table>\n",
       "</div>"
      ],
      "text/plain": [
       "  ID клиента  ВКСП  Сумма счета  Подписан месяцев за год  Переподписка  \\\n",
       "0      08056  0.00     15240.50                     12.0             0   \n",
       "1      42381  0.00         0.00                     12.0             0   \n",
       "2      51895  0.00      5485.71                     12.0             0   \n",
       "3      57656  0.26     12500.00                     12.0             0   \n",
       "4      60065  0.70      4398.62                     12.0             0   \n",
       "\n",
       "   Оплачивает головная организация  Количество пользователей систем  \\\n",
       "0                                0                             12.0   \n",
       "1                                1                              4.0   \n",
       "2                                0                              8.0   \n",
       "3                                0                              4.0   \n",
       "4                                0                              1.0   \n",
       "\n",
       "            Вид деятельности  Территория Коммерческое/Бюджетное     ОРР  \\\n",
       "0  Медицина. Здравоохранение  Красноярск              Бюджетное   КГБУЗ   \n",
       "1                Иные услуги  Красноярск           Коммерческое     ПАО   \n",
       "2  Государственная структура  Красноярск              Бюджетное  КГБУСО   \n",
       "3  Государственная структура  Красноярск              Бюджетное  КГБУСО   \n",
       "4              Строительство  Красноярск           Коммерческое     ООО   \n",
       "\n",
       "                Сегмент  \n",
       "0                   VIP  \n",
       "1  Пропущенное значение  \n",
       "2               Средний  \n",
       "3               Средний  \n",
       "4             Локальный  "
      ]
     },
     "execution_count": 93,
     "metadata": {},
     "output_type": "execute_result"
    }
   ],
   "source": [
    "merged_df = df_sales.merge(df_client, on='ID клиента', how='inner')\n",
    "merged_df.head()"
   ]
  },
  {
   "cell_type": "markdown",
   "metadata": {},
   "source": [
    "Посмотрим зависимость \"Суммы счета\" и количества месяцев, которые был подписан клиент за год"
   ]
  },
  {
   "cell_type": "code",
   "execution_count": 94,
   "metadata": {},
   "outputs": [
    {
     "data": {
      "image/png": "[encoded data removed]",
      "text/plain": [
       "<Figure size 640x480 with 1 Axes>"
      ]
     },
     "metadata": {},
     "output_type": "display_data"
    }
   ],
   "source": [
    "sns.scatterplot(x='Подписан месяцев за год', y='Сумма счета', data=merged_df)\n",
    "sns.regplot(x='Подписан месяцев за год', y='Сумма счета', data=merged_df, scatter=False)\n",
    "\n",
    "plt.show()"
   ]
  },
  {
   "cell_type": "markdown",
   "metadata": {},
   "source": [
    "Линейной зависимости \"количества месяцев\" и \"Суммы счета\" не наблюдается. Нельзя сказать о том, что чем больше месяцев в году у клиента была подписка, тем больше была получена сумма. При этом большАя часть клиентов приносит доход за счёт подписок за относительно небольшие суммы"
   ]
  },
  {
   "cell_type": "markdown",
   "metadata": {},
   "source": [
    "Посмотрим на распределение значений \"Суммы счета\" по всем клиентам"
   ]
  },
  {
   "cell_type": "code",
   "execution_count": 95,
   "metadata": {},
   "outputs": [
    {
     "data": {
      "image/png": "[encoded data removed]",
      "text/plain": [
       "<Figure size 640x480 with 1 Axes>"
      ]
     },
     "metadata": {},
     "output_type": "display_data"
    }
   ],
   "source": [
    "plt.hist(merged_df['Сумма счета'], bins=10, color='skyblue', edgecolor='black')\n",
    "plt.xlabel('Сумма счета')\n",
    "plt.ylabel('Частота')\n",
    "plt.title('Сумма счета')\n",
    "plt.show()"
   ]
  },
  {
   "cell_type": "markdown",
   "metadata": {},
   "source": [
    "Применим ABC-анализ и определим 20% клиентов категории А, которые приносят наибольшую прибыль.\n",
    "\n",
    "Поскольку зависимости между \"количеством месяцев подписки\" и \"Суммой счета\" нет, определим:\n",
    "\n",
    "1. сколько приносят 20% клиентов с продажами на самые большие суммы\n",
    "2. сколько приносят 20% клиентов с наибольшим \"количеством месяцев подписки\" (возможно, более прибыльно продавать подписки с меньшими суммами, но на более продолжительный срок)\n",
    "\n",
    "и сравним полученные значения для определения наиболее прибыльной группы"
   ]
  },
  {
   "cell_type": "code",
   "execution_count": 96,
   "metadata": {},
   "outputs": [
    {
     "name": "stdout",
     "output_type": "stream",
     "text": [
      "Сумма для первых 20% значений при сортировке по полю 'Сумма счета':             584198.59\n",
      "Сумма для первых 20% значений при сортировке по полю 'Подписан месяцев за год': 308938.75\n"
     ]
    }
   ],
   "source": [
    "# определим 20%\n",
    "num_rows_20_percent = int(len(merged_df) * 0.2)\n",
    "\n",
    "# отсортируем по Сумме\n",
    "merged_df = merged_df.sort_values(by=['Сумма счета', 'Подписан месяцев за год', 'Переподписка', 'ВКСП'], ascending=[False, False, False, False])\n",
    "# вычисление суммы 'Сумма счета' для первых 20% значений\n",
    "sum_top_20_percent = merged_df['Сумма счета'].head(num_rows_20_percent).sum()\n",
    "\n",
    "print(\"Сумма для первых 20% значений при сортировке по полю 'Сумма счета':            \", round(sum_top_20_percent, 2))\n",
    "\n",
    "# отсортируем по количеству месяцев подписки за год\n",
    "merged_df = merged_df.sort_values(by=['Подписан месяцев за год', 'Сумма счета', 'Переподписка', 'ВКСП'], ascending=[False, False, False, False])\n",
    "# вычисление суммы 'Сумма счета' для первых 20% значений\n",
    "sum_top_20_percent = merged_df['Сумма счета'].head(num_rows_20_percent).sum()\n",
    "\n",
    "print(\"Сумма для первых 20% значений при сортировке по полю 'Подписан месяцев за год':\", round(sum_top_20_percent, 2))"
   ]
  },
  {
   "cell_type": "markdown",
   "metadata": {},
   "source": [
    "Можем сделать вывод, что продавать подписки за бОльшие \"Суммы счета\" выгоднее, чем на бОльшее количество месяцев."
   ]
  },
  {
   "cell_type": "markdown",
   "metadata": {},
   "source": [
    "# Проанализируем клиентов Категории А"
   ]
  },
  {
   "cell_type": "code",
   "execution_count": 97,
   "metadata": {},
   "outputs": [],
   "source": [
    "# отсортируем набор данных еще раз по \"Сумме счета\"\n",
    "merged_df = merged_df.sort_values(by=['Сумма счета', 'Подписан месяцев за год', 'Переподписка', 'ВКСП'], ascending=[False, False, False, False])\n",
    "\n",
    "# Отберем 20% клиентов Категории А\n",
    "df_A = merged_df.head(num_rows_20_percent)"
   ]
  },
  {
   "cell_type": "code",
   "execution_count": 98,
   "metadata": {},
   "outputs": [],
   "source": [
    "# функция для построения гистограммы\n",
    "def showhist(field):\n",
    "    plt.hist(df_A[field], bins=10, color='skyblue', edgecolor='black')\n",
    "    plt.xlabel(field)\n",
    "    plt.ylabel('Частота')\n",
    "    plt.title(field)\n",
    "    plt.show()\n",
    "\n",
    "# функция для отображения статистики\n",
    "def showstats(value_counts):\n",
    "    for value, count in value_counts.items():\n",
    "        percentage = (count / len(df_A)) * 100\n",
    "        print(f'Значение: {value}, Количество: {count}, Процент: {percentage:.2f}%')\n",
    "\n",
    "# итоговый список\n",
    "result = []"
   ]
  },
  {
   "cell_type": "markdown",
   "metadata": {},
   "source": [
    "Посмотрим распределение значений в столбце \"ВКСП\""
   ]
  },
  {
   "cell_type": "code",
   "execution_count": 99,
   "metadata": {},
   "outputs": [
    {
     "data": {
      "image/png": "[encoded data removed]",
      "text/plain": [
       "<Figure size 640x480 with 1 Axes>"
      ]
     },
     "metadata": {},
     "output_type": "display_data"
    }
   ],
   "source": [
    "showhist('ВКСП')"
   ]
  },
  {
   "cell_type": "markdown",
   "metadata": {},
   "source": [
    "Распределение неоднородное, для описания используем среднее"
   ]
  },
  {
   "cell_type": "code",
   "execution_count": 100,
   "metadata": {},
   "outputs": [
    {
     "data": {
      "text/plain": [
       "0.8519"
      ]
     },
     "execution_count": 100,
     "metadata": {},
     "output_type": "execute_result"
    }
   ],
   "source": [
    "most_common_value = round(df_A['ВКСП'].mean(), 4)\n",
    "result.append(f'Среднее значение \"ВКСП\": {most_common_value}')\n",
    "most_common_value"
   ]
  },
  {
   "cell_type": "markdown",
   "metadata": {},
   "source": [
    "Посмотрим распределение значений в столбце \"Сумма счета\""
   ]
  },
  {
   "cell_type": "code",
   "execution_count": 101,
   "metadata": {},
   "outputs": [
    {
     "data": {
      "image/png": "[encoded data removed]",
      "text/plain": [
       "<Figure size 640x480 with 1 Axes>"
      ]
     },
     "metadata": {},
     "output_type": "display_data"
    }
   ],
   "source": [
    "showhist('Сумма счета')"
   ]
  },
  {
   "cell_type": "markdown",
   "metadata": {},
   "source": [
    "Для описания используем среднее"
   ]
  },
  {
   "cell_type": "code",
   "execution_count": 102,
   "metadata": {},
   "outputs": [
    {
     "data": {
      "text/plain": [
       "12982.19"
      ]
     },
     "execution_count": 102,
     "metadata": {},
     "output_type": "execute_result"
    }
   ],
   "source": [
    "most_common_value = round(df_A['Сумма счета'].mean(), 2)\n",
    "result.append(f'Среднее значение \"Сумма счета\": {most_common_value}')\n",
    "most_common_value"
   ]
  },
  {
   "cell_type": "markdown",
   "metadata": {},
   "source": [
    "Посмотрим распределение значений в столбце \"Подписан месяцев за год\""
   ]
  },
  {
   "cell_type": "code",
   "execution_count": 103,
   "metadata": {},
   "outputs": [
    {
     "data": {
      "image/png": "[encoded data removed]",
      "text/plain": [
       "<Figure size 640x480 with 1 Axes>"
      ]
     },
     "metadata": {},
     "output_type": "display_data"
    }
   ],
   "source": [
    "showhist('Подписан месяцев за год')"
   ]
  },
  {
   "cell_type": "markdown",
   "metadata": {},
   "source": [
    "Для описания используем среднее"
   ]
  },
  {
   "cell_type": "code",
   "execution_count": 104,
   "metadata": {},
   "outputs": [
    {
     "data": {
      "text/plain": [
       "6"
      ]
     },
     "execution_count": 104,
     "metadata": {},
     "output_type": "execute_result"
    }
   ],
   "source": [
    "most_common_value = round(df_A['Подписан месяцев за год'].mean())\n",
    "result.append(f'Среднее значение \"Подписан месяцев за год\": {most_common_value}')\n",
    "most_common_value"
   ]
  },
  {
   "cell_type": "markdown",
   "metadata": {},
   "source": [
    "Посмотрим распределение значений в столбце \"Количество пользователей систем\""
   ]
  },
  {
   "cell_type": "code",
   "execution_count": 105,
   "metadata": {},
   "outputs": [
    {
     "data": {
      "image/png": "[encoded data removed]",
      "text/plain": [
       "<Figure size 640x480 with 1 Axes>"
      ]
     },
     "metadata": {},
     "output_type": "display_data"
    }
   ],
   "source": [
    "showhist('Количество пользователей систем')"
   ]
  },
  {
   "cell_type": "markdown",
   "metadata": {},
   "source": [
    "Для описания используем среднее"
   ]
  },
  {
   "cell_type": "code",
   "execution_count": 106,
   "metadata": {},
   "outputs": [
    {
     "data": {
      "text/plain": [
       "5"
      ]
     },
     "execution_count": 106,
     "metadata": {},
     "output_type": "execute_result"
    }
   ],
   "source": [
    "most_common_value = round(df_A['Количество пользователей систем'].mean())\n",
    "result.append(f'Среднее значение \"Количество пользователей систем\": {most_common_value}')\n",
    "most_common_value"
   ]
  },
  {
   "cell_type": "markdown",
   "metadata": {},
   "source": [
    "Посмотрим распределение значений в столбце \"Вид деятельности\""
   ]
  },
  {
   "cell_type": "code",
   "execution_count": 107,
   "metadata": {},
   "outputs": [
    {
     "name": "stdout",
     "output_type": "stream",
     "text": [
      "Значение: Иные услуги, Количество: 8, Процент: 17.78%\n",
      "Значение: Государственная структура, Количество: 7, Процент: 15.56%\n",
      "Значение: Медицина. Здравоохранение, Количество: 6, Процент: 13.33%\n",
      "Значение: Наука и образование, Количество: 4, Процент: 8.89%\n",
      "Значение: Промышленность. Производство, Количество: 4, Процент: 8.89%\n",
      "Значение: Спорт, Количество: 3, Процент: 6.67%\n",
      "Значение: Строительство, Количество: 3, Процент: 6.67%\n",
      "Значение: Финансы, кредит, инвестирование, Количество: 2, Процент: 4.44%\n",
      "Значение: Пропущенное значение, Количество: 2, Процент: 4.44%\n",
      "Значение: Общественные, Религиозные, Социальные, Политические организации, Количество: 2, Процент: 4.44%\n",
      "Значение: Жилищно-коммунальное хозяйство, Количество: 1, Процент: 2.22%\n",
      "Значение: Юридические услуги, Количество: 1, Процент: 2.22%\n",
      "Значение: СМИ. Реклама. Маркетинг, Количество: 1, Процент: 2.22%\n",
      "Значение: Торговля-опт, Количество: 1, Процент: 2.22%\n"
     ]
    }
   ],
   "source": [
    "value_counts = df_A['Вид деятельности'].value_counts()\n",
    "showstats(value_counts)"
   ]
  },
  {
   "cell_type": "markdown",
   "metadata": {},
   "source": [
    "Добавим значения с наибольшей частотой повторений"
   ]
  },
  {
   "cell_type": "code",
   "execution_count": 108,
   "metadata": {},
   "outputs": [],
   "source": [
    "s = ''\n",
    "for value, count in value_counts.items():\n",
    "    percentage = (count / len(df_A)) * 100\n",
    "    if percentage > 10:\n",
    "        s = s + f'{value}: {percentage:.2f}%; '\n",
    "s = s[:-2]\n",
    "result.append(f'\"Вид деятельности\": {s}')"
   ]
  },
  {
   "cell_type": "markdown",
   "metadata": {},
   "source": [
    "Посмотрим распределение значений в столбце \"Территория\""
   ]
  },
  {
   "cell_type": "code",
   "execution_count": 109,
   "metadata": {},
   "outputs": [
    {
     "name": "stdout",
     "output_type": "stream",
     "text": [
      "Значение: Красноярск, Количество: 26, Процент: 57.78%\n",
      "Значение: Минусинское отделение, Количество: 6, Процент: 13.33%\n",
      "Значение: Норильское отделение, Количество: 6, Процент: 13.33%\n",
      "Значение: Канское отделение, Количество: 4, Процент: 8.89%\n",
      "Значение: Лесосибирское отделение, Количество: 2, Процент: 4.44%\n",
      "Значение: Заозерное отделение, Количество: 1, Процент: 2.22%\n"
     ]
    }
   ],
   "source": [
    "value_counts = df_A['Территория'].value_counts()\n",
    "showstats(value_counts)"
   ]
  },
  {
   "cell_type": "markdown",
   "metadata": {},
   "source": [
    "Добавим значения с наибольшей частотой повторений"
   ]
  },
  {
   "cell_type": "code",
   "execution_count": 110,
   "metadata": {},
   "outputs": [],
   "source": [
    "s = ''\n",
    "for value, count in value_counts.items():\n",
    "    percentage = (count / len(df_A)) * 100\n",
    "    if percentage > 50:\n",
    "        s = s + f'{value}: {percentage:.2f}%; '\n",
    "s = s[:-2]\n",
    "result.append(f'\"Территория\": {s}')"
   ]
  },
  {
   "cell_type": "markdown",
   "metadata": {},
   "source": [
    "Посмотрим распределение значений в столбце \"ОРР\""
   ]
  },
  {
   "cell_type": "code",
   "execution_count": 111,
   "metadata": {},
   "outputs": [
    {
     "name": "stdout",
     "output_type": "stream",
     "text": [
      "Значение: ООО, Количество: 12, Процент: 26.67%\n",
      "Значение: Пропущенное значение, Количество: 4, Процент: 8.89%\n",
      "Значение: КГБУЗ, Количество: 4, Процент: 8.89%\n",
      "Значение: КГБУСО, Количество: 4, Процент: 8.89%\n",
      "Значение: МБУ, Количество: 3, Процент: 6.67%\n",
      "Значение: КГАУ, Количество: 2, Процент: 4.44%\n",
      "Значение: КГКУ, Количество: 2, Процент: 4.44%\n",
      "Значение: МКУ, Количество: 2, Процент: 4.44%\n",
      "Значение: КГБУ, Количество: 2, Процент: 4.44%\n",
      "Значение: КГБПОУ, Количество: 1, Процент: 2.22%\n",
      "Значение: ФГУП, Количество: 1, Процент: 2.22%\n",
      "Значение: АО, Количество: 1, Процент: 2.22%\n",
      "Значение: ИП, Количество: 1, Процент: 2.22%\n",
      "Значение: МУ, Количество: 1, Процент: 2.22%\n",
      "Значение: АНО, Количество: 1, Процент: 2.22%\n",
      "Значение: ОАО, Количество: 1, Процент: 2.22%\n",
      "Значение: МАУ, Количество: 1, Процент: 2.22%\n",
      "Значение: МП, Количество: 1, Процент: 2.22%\n",
      "Значение: КГООУ СПО, Количество: 1, Процент: 2.22%\n"
     ]
    }
   ],
   "source": [
    "value_counts = df_A['ОРР'].value_counts()\n",
    "showstats(value_counts)"
   ]
  },
  {
   "cell_type": "markdown",
   "metadata": {},
   "source": [
    "Добавим значения с наибольшей частотой повторений"
   ]
  },
  {
   "cell_type": "code",
   "execution_count": 112,
   "metadata": {},
   "outputs": [],
   "source": [
    "s = ''\n",
    "for value, count in value_counts.items():\n",
    "    percentage = (count / len(df_A)) * 100\n",
    "    if percentage > 20:\n",
    "        s = s + f'{value}: {percentage:.2f}%; '\n",
    "s = s[:-2]\n",
    "result.append(f'\"ОРР\": {s}')"
   ]
  },
  {
   "cell_type": "markdown",
   "metadata": {},
   "source": [
    "Посмотрим распределение значений в столбце \"Сегмент\""
   ]
  },
  {
   "cell_type": "code",
   "execution_count": 113,
   "metadata": {},
   "outputs": [
    {
     "name": "stdout",
     "output_type": "stream",
     "text": [
      "Значение: Средний, Количество: 25, Процент: 55.56%\n",
      "Значение: VIP, Количество: 13, Процент: 28.89%\n",
      "Значение: Локальный, Количество: 6, Процент: 13.33%\n",
      "Значение: Пропущенное значение, Количество: 1, Процент: 2.22%\n"
     ]
    }
   ],
   "source": [
    "value_counts = df_A['Сегмент'].value_counts()\n",
    "showstats(value_counts)"
   ]
  },
  {
   "cell_type": "markdown",
   "metadata": {},
   "source": [
    "Добавим значения с наибольшей частотой повторений"
   ]
  },
  {
   "cell_type": "code",
   "execution_count": 114,
   "metadata": {},
   "outputs": [],
   "source": [
    "s = ''\n",
    "for value, count in value_counts.items():\n",
    "    percentage = (count / len(df_A)) * 100\n",
    "    if percentage > 20:\n",
    "        s = s + f'{value}: {percentage:.2f}%; '\n",
    "s = s[:-2]\n",
    "result.append(f'\"Сегмент\": {s}')"
   ]
  },
  {
   "cell_type": "markdown",
   "metadata": {},
   "source": [
    "Посмотрим распределение значений в столбце \"Коммерческое/Бюджетное\""
   ]
  },
  {
   "cell_type": "code",
   "execution_count": 115,
   "metadata": {},
   "outputs": [
    {
     "name": "stdout",
     "output_type": "stream",
     "text": [
      "Значение: Бюджетное, Количество: 20, Процент: 44.44%\n",
      "Значение: Коммерческое, Количество: 17, Процент: 37.78%\n",
      "Значение: Казенное, Количество: 5, Процент: 11.11%\n",
      "Значение: Автономные, Количество: 3, Процент: 6.67%\n"
     ]
    }
   ],
   "source": [
    "value_counts = df_A['Коммерческое/Бюджетное'].value_counts()\n",
    "showstats(value_counts)"
   ]
  },
  {
   "cell_type": "markdown",
   "metadata": {},
   "source": [
    "Добавим значения с наибольшей частотой повторений"
   ]
  },
  {
   "cell_type": "code",
   "execution_count": 116,
   "metadata": {},
   "outputs": [],
   "source": [
    "s = ''\n",
    "for value, count in value_counts.items():\n",
    "    percentage = (count / len(df_A)) * 100\n",
    "    if percentage > 30:\n",
    "        s = s + f'{value}: {percentage:.2f}%; '\n",
    "s = s[:-2]\n",
    "result.append(f'\"Коммерческое/Бюджетное\": {s}')"
   ]
  },
  {
   "cell_type": "markdown",
   "metadata": {},
   "source": [
    "Посмотрим распределение значений в столбце \"Переподписка\""
   ]
  },
  {
   "cell_type": "code",
   "execution_count": 117,
   "metadata": {},
   "outputs": [
    {
     "name": "stdout",
     "output_type": "stream",
     "text": [
      "Значение: 0, Количество: 45, Процент: 100.00%\n"
     ]
    }
   ],
   "source": [
    "value_counts = df_A['Переподписка'].value_counts()\n",
    "showstats(value_counts)"
   ]
  },
  {
   "cell_type": "markdown",
   "metadata": {},
   "source": [
    "Среди клиентов Категории А нет тех, кто оформлял переподписку"
   ]
  },
  {
   "cell_type": "code",
   "execution_count": 118,
   "metadata": {},
   "outputs": [],
   "source": [
    "result.append(f'Была ли оформлена подписка ранее в этом году: Неважно')"
   ]
  },
  {
   "cell_type": "markdown",
   "metadata": {},
   "source": [
    "Посмотрим распределение значений в столбце \"Оплачивает головная организация\""
   ]
  },
  {
   "cell_type": "code",
   "execution_count": 119,
   "metadata": {},
   "outputs": [
    {
     "name": "stdout",
     "output_type": "stream",
     "text": [
      "Значение: 0, Количество: 45, Процент: 100.00%\n"
     ]
    }
   ],
   "source": [
    "value_counts = df_A['Оплачивает головная организация'].value_counts()\n",
    "showstats(value_counts)"
   ]
  },
  {
   "cell_type": "markdown",
   "metadata": {},
   "source": [
    "Среди клиентов Категории А нет тех, у кого значение \"Сумма счета\" в \"Продажах за год\" было пропущено (предположительно это клиенты, за системы которых платит их головная организация)"
   ]
  },
  {
   "cell_type": "code",
   "execution_count": 120,
   "metadata": {},
   "outputs": [],
   "source": [
    "result.append(f'Оплачивается головной организацией: Неважно')"
   ]
  },
  {
   "cell_type": "markdown",
   "metadata": {},
   "source": [
    "# Конечный результат"
   ]
  },
  {
   "cell_type": "code",
   "execution_count": 121,
   "metadata": {},
   "outputs": [
    {
     "name": "stdout",
     "output_type": "stream",
     "text": [
      "Портрет клиента, который лучше всего подходит для работы по продаже менеджеру:\n",
      "\n",
      "Среднее значение \"ВКСП\": 0.8519\n",
      "Среднее значение \"Сумма счета\": 12982.19\n",
      "Среднее значение \"Подписан месяцев за год\": 6\n",
      "Среднее значение \"Количество пользователей систем\": 5\n",
      "\"Вид деятельности\": Иные услуги: 17.78%; Государственная структура: 15.56%; Медицина. Здравоохранение: 13.33%\n",
      "\"Территория\": Красноярск: 57.78%\n",
      "\"ОРР\": ООО: 26.67%\n",
      "\"Сегмент\": Средний: 55.56%; VIP: 28.89%\n",
      "\"Коммерческое/Бюджетное\": Бюджетное: 44.44%; Коммерческое: 37.78%\n",
      "Была ли оформлена подписка ранее в этом году: Неважно\n",
      "Оплачивается головной организацией: Неважно\n"
     ]
    }
   ],
   "source": [
    "print('Портрет клиента, который лучше всего подходит для работы по продаже менеджеру:')\n",
    "print()\n",
    "\n",
    "for i in result:\n",
    "    print(i)"
   ]
  },
  {
   "cell_type": "markdown",
   "metadata": {},
   "source": [
    "# Вывод"
   ]
  },
  {
   "cell_type": "markdown",
   "metadata": {},
   "source": [
    "На основании предоставленных данных было выявлено, что продавать подписки за бОльшие \"Суммы счета\" выгоднее, чем на бОльшее количество месяцев.\n",
    "\n",
    "Используя ABC-анализ была выявлена \"Категория А\" клиентов, которые принесли наибольший доход компании. \n",
    "\n",
    "На основании данных клиентов \"Категории А\" были определены средние значения для количественных переменных, самые распространенные значения номинативных переменных, определена важность переподписки и оплаты головной организации, и составлен портрет клиента, который лучше всего подходит для работы по продаже менеджеру."
   ]
  },
  {
   "cell_type": "markdown",
   "metadata": {},
   "source": [
    "# Рекомендации"
   ]
  },
  {
   "cell_type": "markdown",
   "metadata": {},
   "source": [
    "Настроить процесс проверки данных перед добавлением в документ (например: использовать даты в одном формате, использовать одинаковые наименования для \"краевое государственное казенное учреждение\" и \"КГКУ\" и тд.).\n",
    "\n",
    "Возможно, будет удобнее фиксировать даты покупки и окончания подписок в одном файле, где каждому столбцу будет соответствовать определенный месяц+год. Это упростит работу с теми клиентами, которые покупают подписку не в первый раз."
   ]
  }
 ],
 "metadata": {
  "kernelspec": {
   "display_name": "Python 3",
   "language": "python",
   "name": "python3"
  },
  "language_info": {
   "codemirror_mode": {
    "name": "ipython",
    "version": 3
   },
   "file_extension": ".py",
   "mimetype": "text/x-python",
   "name": "python",
   "nbconvert_exporter": "python",
   "pygments_lexer": "ipython3",
   "version": "3.10.5"
  }
 },
 "nbformat": 4,
 "nbformat_minor": 2
}
